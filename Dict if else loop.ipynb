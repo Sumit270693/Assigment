{
 "cells": [
  {
   "cell_type": "code",
   "execution_count": 1,
   "id": "bf03e7c9-7f9c-4fba-93ad-bb643ac198b0",
   "metadata": {},
   "outputs": [],
   "source": [
    "d = {}"
   ]
  },
  {
   "cell_type": "code",
   "execution_count": 2,
   "id": "e34565aa-0a61-4638-bd97-f33cc4dfb8b8",
   "metadata": {},
   "outputs": [
    {
     "data": {
      "text/plain": [
       "dict"
      ]
     },
     "execution_count": 2,
     "metadata": {},
     "output_type": "execute_result"
    }
   ],
   "source": [
    "type(d)"
   ]
  },
  {
   "cell_type": "code",
   "execution_count": 3,
   "id": "df608738-0aad-40e4-8f5a-2ddc7f2dc9d8",
   "metadata": {},
   "outputs": [],
   "source": [
    "d1 = {\"key\" : \"sumit\"}"
   ]
  },
  {
   "cell_type": "code",
   "execution_count": 4,
   "id": "1a5eba4f-498f-48a4-a098-c2996b0917c2",
   "metadata": {},
   "outputs": [
    {
     "data": {
      "text/plain": [
       "{'key': 'sumit'}"
      ]
     },
     "execution_count": 4,
     "metadata": {},
     "output_type": "execute_result"
    }
   ],
   "source": [
    "d1"
   ]
  },
  {
   "cell_type": "code",
   "execution_count": 6,
   "id": "704565be-2e92-4c26-b4ed-398600c86ae7",
   "metadata": {},
   "outputs": [],
   "source": [
    "d2 = {\"name\" : \"sumit kumar\" , \"email\" : \"sum.panday@gmail.com\" , \"contact\" : \"7503017702\" }"
   ]
  },
  {
   "cell_type": "code",
   "execution_count": 1,
   "id": "1ceb2961-2db5-4dab-a469-3f363fdb4875",
   "metadata": {},
   "outputs": [
    {
     "data": {
      "text/plain": [
       "9148008025968256"
      ]
     },
     "execution_count": 1,
     "metadata": {},
     "output_type": "execute_result"
    }
   ],
   "source": [
    "9148008025968256"
   ]
  },
  {
   "cell_type": "code",
   "execution_count": 4,
   "id": "c15321b6-83b8-4148-8ef6-270c16ad03d8",
   "metadata": {},
   "outputs": [],
   "source": [
    "d3 = {234 : 'sumit'}"
   ]
  },
  {
   "cell_type": "code",
   "execution_count": 5,
   "id": "b428b9b7-48a3-4999-b00b-8e92ef2573ec",
   "metadata": {},
   "outputs": [
    {
     "data": {
      "text/plain": [
       "{234: 'sumit'}"
      ]
     },
     "execution_count": 5,
     "metadata": {},
     "output_type": "execute_result"
    }
   ],
   "source": [
    "d3"
   ]
  },
  {
   "cell_type": "code",
   "execution_count": 5,
   "id": "93437e50-3b49-4378-bd88-47c83555d158",
   "metadata": {},
   "outputs": [],
   "source": [
    "d3 = {234 : 'sumit'}"
   ]
  },
  {
   "cell_type": "code",
   "execution_count": 12,
   "id": "61b8d39b-28f1-45a4-896e-938c2c13ba94",
   "metadata": {},
   "outputs": [],
   "source": [
    "d4 ={234 :\"sumit\" , 'kumar' : \"_sum\" , True : 786}"
   ]
  },
  {
   "cell_type": "code",
   "execution_count": 13,
   "id": "cce9c646-b2db-4b09-b8c6-a73eee826c69",
   "metadata": {},
   "outputs": [
    {
     "data": {
      "text/plain": [
       "{234: 'sumit', 'kumar': '_sum', True: 786}"
      ]
     },
     "execution_count": 13,
     "metadata": {},
     "output_type": "execute_result"
    }
   ],
   "source": [
    "d4"
   ]
  },
  {
   "cell_type": "code",
   "execution_count": 14,
   "id": "73d335d5-b2cd-4a6e-872a-5445db7ef119",
   "metadata": {},
   "outputs": [
    {
     "data": {
      "text/plain": [
       "'sumit'"
      ]
     },
     "execution_count": 14,
     "metadata": {},
     "output_type": "execute_result"
    }
   ],
   "source": [
    "d4[234]"
   ]
  },
  {
   "cell_type": "code",
   "execution_count": 15,
   "id": "c0c07f07-a5a7-4662-b89c-9b238c72119b",
   "metadata": {},
   "outputs": [
    {
     "data": {
      "text/plain": [
       "786"
      ]
     },
     "execution_count": 15,
     "metadata": {},
     "output_type": "execute_result"
    }
   ],
   "source": [
    "d4[True]"
   ]
  },
  {
   "cell_type": "code",
   "execution_count": 16,
   "id": "1d8d9210-1d12-4c5f-97f4-6a1dc7841b93",
   "metadata": {},
   "outputs": [
    {
     "data": {
      "text/plain": [
       "786"
      ]
     },
     "execution_count": 16,
     "metadata": {},
     "output_type": "execute_result"
    }
   ],
   "source": [
    "d4[1]"
   ]
  },
  {
   "cell_type": "code",
   "execution_count": 19,
   "id": "5cf43a96-1ebd-4cad-ac96-84c88a0e21e9",
   "metadata": {},
   "outputs": [],
   "source": [
    "d4 ={234 :\"sumit\" , 'kumar' : \"_sum\" , True : 786  , False : \"yes\"}"
   ]
  },
  {
   "cell_type": "code",
   "execution_count": 20,
   "id": "45ca5c72-f8fa-4aec-92bf-e2d36da3b371",
   "metadata": {},
   "outputs": [
    {
     "data": {
      "text/plain": [
       "{234: 'sumit', 'kumar': '_sum', True: 786, False: 'yes'}"
      ]
     },
     "execution_count": 20,
     "metadata": {},
     "output_type": "execute_result"
    }
   ],
   "source": [
    "d4"
   ]
  },
  {
   "cell_type": "code",
   "execution_count": 21,
   "id": "623f8afb-1d9e-437b-8c34-49d87f601c21",
   "metadata": {},
   "outputs": [
    {
     "data": {
      "text/plain": [
       "'yes'"
      ]
     },
     "execution_count": 21,
     "metadata": {},
     "output_type": "execute_result"
    }
   ],
   "source": [
    "d4[0]"
   ]
  },
  {
   "cell_type": "code",
   "execution_count": 23,
   "id": "fd557368-cccc-47f5-a709-b09d1acbdacb",
   "metadata": {},
   "outputs": [
    {
     "data": {
      "text/plain": [
       "786"
      ]
     },
     "execution_count": 23,
     "metadata": {},
     "output_type": "execute_result"
    }
   ],
   "source": [
    "d4[1]"
   ]
  },
  {
   "cell_type": "code",
   "execution_count": 31,
   "id": "21fb96a1-0e53-4e4d-ae90-eca2f83374b2",
   "metadata": {},
   "outputs": [],
   "source": [
    "d5 = {\"Name\" : \"Sumit\",\"Email\" : \"Sum.panday@gmail.com\" , \"city\" : \"Delhi\" , \"Name\" : \"sanjay\"}"
   ]
  },
  {
   "cell_type": "code",
   "execution_count": 33,
   "id": "21d37e90-70f9-437d-8e9a-87999f82e492",
   "metadata": {},
   "outputs": [
    {
     "data": {
      "text/plain": [
       "{'Name': 'sanjay', 'Email': 'Sum.panday@gmail.com', 'city': 'Delhi'}"
      ]
     },
     "execution_count": 33,
     "metadata": {},
     "output_type": "execute_result"
    }
   ],
   "source": [
    "d5"
   ]
  },
  {
   "cell_type": "code",
   "execution_count": 30,
   "id": "6ff9d10d-0e1a-4756-83af-2be0a0302abb",
   "metadata": {},
   "outputs": [
    {
     "data": {
      "text/plain": [
       "'Sum.panday@gmail.com'"
      ]
     },
     "execution_count": 30,
     "metadata": {},
     "output_type": "execute_result"
    }
   ],
   "source": [
    "d5[\"Email\"]"
   ]
  },
  {
   "cell_type": "code",
   "execution_count": 35,
   "id": "442867c7-79e8-4f6a-a024-7342f812ef77",
   "metadata": {},
   "outputs": [],
   "source": [
    "d6 = {\"Name\" : \"Sumit\",\"Email\" : \"Sum.panday@gmail.com\" , \"city\" : \"Delhi\" , \"Name\" : \"sanjay\"}"
   ]
  },
  {
   "cell_type": "code",
   "execution_count": 36,
   "id": "909f32d3-d464-480a-b10d-cd120b701e48",
   "metadata": {},
   "outputs": [
    {
     "data": {
      "text/plain": [
       "{'Name': 'sanjay', 'Email': 'Sum.panday@gmail.com', 'city': 'Delhi'}"
      ]
     },
     "execution_count": 36,
     "metadata": {},
     "output_type": "execute_result"
    }
   ],
   "source": [
    "d6"
   ]
  },
  {
   "cell_type": "code",
   "execution_count": 37,
   "id": "370b65a6-1727-4d3b-ba41-ae31d0890f61",
   "metadata": {},
   "outputs": [],
   "source": [
    "d7 = {\"comapnay\" : \"opk_e_services\" , \"campaings\":[\"liberty\" , \"global\" ,\"fidility\"]}"
   ]
  },
  {
   "cell_type": "code",
   "execution_count": 38,
   "id": "f3137c4a-f522-4188-9e36-f422bc084de9",
   "metadata": {},
   "outputs": [
    {
     "data": {
      "text/plain": [
       "{'comapnay': 'opk_e_services', 'campaings': ['liberty', 'global', 'fidility']}"
      ]
     },
     "execution_count": 38,
     "metadata": {},
     "output_type": "execute_result"
    }
   ],
   "source": [
    "d7"
   ]
  },
  {
   "cell_type": "code",
   "execution_count": 39,
   "id": "23eff526-090a-4269-8c96-be645145cd0b",
   "metadata": {},
   "outputs": [
    {
     "data": {
      "text/plain": [
       "['liberty', 'global', 'fidility']"
      ]
     },
     "execution_count": 39,
     "metadata": {},
     "output_type": "execute_result"
    }
   ],
   "source": [
    "d7['campaings']"
   ]
  },
  {
   "cell_type": "code",
   "execution_count": 41,
   "id": "72c86be4-df36-4757-9411-dfb8e2f8b747",
   "metadata": {},
   "outputs": [
    {
     "data": {
      "text/plain": [
       "'fidility'"
      ]
     },
     "execution_count": 41,
     "metadata": {},
     "output_type": "execute_result"
    }
   ],
   "source": [
    "d7['campaings'][2]"
   ]
  },
  {
   "cell_type": "code",
   "execution_count": 47,
   "id": "c89c2a2d-6418-407d-b200-66614966d945",
   "metadata": {},
   "outputs": [],
   "source": [
    "d8 = {\"Number\" : [123, 456, 789] , \"Assigment\" : (10, 20, 30, 40) , \"Date\" :{2, 3, 4, 5, 6} , \"Class_time\" :{\"data_sciece\" : \"4\" , \"dsa\" : \"5\"}}"
   ]
  },
  {
   "cell_type": "code",
   "execution_count": 48,
   "id": "bc5b807e-cd3a-4d04-89bd-f9dab54471b2",
   "metadata": {},
   "outputs": [
    {
     "data": {
      "text/plain": [
       "{'Number': [123, 456, 789],\n",
       " 'Assigment': (10, 20, 30, 40),\n",
       " 'Date': {2, 3, 4, 5, 6},\n",
       " 'Class_time': {'data_sciece': '4', 'dsa': '5'}}"
      ]
     },
     "execution_count": 48,
     "metadata": {},
     "output_type": "execute_result"
    }
   ],
   "source": [
    "d8"
   ]
  },
  {
   "cell_type": "code",
   "execution_count": 49,
   "id": "c09ca91d-9c67-48a1-bee2-decd2487bcee",
   "metadata": {},
   "outputs": [
    {
     "data": {
      "text/plain": [
       "{'data_sciece': '4', 'dsa': '5'}"
      ]
     },
     "execution_count": 49,
     "metadata": {},
     "output_type": "execute_result"
    }
   ],
   "source": [
    "d8[\"Class_time\"]"
   ]
  },
  {
   "cell_type": "code",
   "execution_count": 51,
   "id": "72baf96b-3651-42a9-b64d-04201260f797",
   "metadata": {},
   "outputs": [
    {
     "data": {
      "text/plain": [
       "'5'"
      ]
     },
     "execution_count": 51,
     "metadata": {},
     "output_type": "execute_result"
    }
   ],
   "source": [
    "d8[\"Class_time\"][\"dsa\"]"
   ]
  },
  {
   "cell_type": "code",
   "execution_count": 54,
   "id": "3905b520-1528-49b4-a060-2c7d77d9d54f",
   "metadata": {},
   "outputs": [],
   "source": [
    "d8[\"team lead\"] = [\"ajit\", \"neeraj\", \"kwarra\"]"
   ]
  },
  {
   "cell_type": "code",
   "execution_count": 55,
   "id": "37811d79-a450-4709-aed3-042b6d4fae2f",
   "metadata": {},
   "outputs": [
    {
     "data": {
      "text/plain": [
       "{'Number': [123, 456, 789],\n",
       " 'Assigment': (10, 20, 30, 40),\n",
       " 'Date': {2, 3, 4, 5, 6},\n",
       " 'Class_time': {'data_sciece': '4', 'dsa': '5'},\n",
       " 'team lead': ['ajit', 'neeraj', 'kwarra']}"
      ]
     },
     "execution_count": 55,
     "metadata": {},
     "output_type": "execute_result"
    }
   ],
   "source": [
    "d8"
   ]
  },
  {
   "cell_type": "code",
   "execution_count": 56,
   "id": "c2296e97-ca6a-47b5-b534-3a40490ccd5b",
   "metadata": {},
   "outputs": [],
   "source": [
    "del d8[\"Number\"]"
   ]
  },
  {
   "cell_type": "code",
   "execution_count": 57,
   "id": "f963b870-4754-4d15-b1ec-ba15cbfe1891",
   "metadata": {},
   "outputs": [
    {
     "data": {
      "text/plain": [
       "{'Assigment': (10, 20, 30, 40),\n",
       " 'Date': {2, 3, 4, 5, 6},\n",
       " 'Class_time': {'data_sciece': '4', 'dsa': '5'},\n",
       " 'team lead': ['ajit', 'neeraj', 'kwarra']}"
      ]
     },
     "execution_count": 57,
     "metadata": {},
     "output_type": "execute_result"
    }
   ],
   "source": [
    "d8"
   ]
  },
  {
   "cell_type": "code",
   "execution_count": 8,
   "id": "562e1b85-3bff-495d-97d1-bc489ba84a59",
   "metadata": {},
   "outputs": [],
   "source": [
    "d8 = {\"Number\" : [123, 456, 789] , \"Assigment\" : (10, 20, 30, 40) , \"Date\" :{2, 3, 4, 5, 6} , \"Class_time\" :{\"data_sciece\" : \"4\" , \"dsa\" : \"5\"}}\n"
   ]
  },
  {
   "cell_type": "code",
   "execution_count": 9,
   "id": "8d40a527-6070-44c3-b970-a353f1ce6c19",
   "metadata": {},
   "outputs": [
    {
     "data": {
      "text/plain": [
       "{'Number': [123, 456, 789],\n",
       " 'Assigment': (10, 20, 30, 40),\n",
       " 'Date': {2, 3, 4, 5, 6},\n",
       " 'Class_time': {'data_sciece': '4', 'dsa': '5'}}"
      ]
     },
     "execution_count": 9,
     "metadata": {},
     "output_type": "execute_result"
    }
   ],
   "source": [
    "d8"
   ]
  },
  {
   "cell_type": "code",
   "execution_count": 10,
   "id": "a68efd64-3c98-414c-8819-a783df95a902",
   "metadata": {},
   "outputs": [
    {
     "data": {
      "text/plain": [
       "dict_keys(['Number', 'Assigment', 'Date', 'Class_time'])"
      ]
     },
     "execution_count": 10,
     "metadata": {},
     "output_type": "execute_result"
    }
   ],
   "source": [
    "d8.keys()"
   ]
  },
  {
   "cell_type": "code",
   "execution_count": 11,
   "id": "e5ad837e-288d-4258-aabb-f4a1111eacdb",
   "metadata": {},
   "outputs": [
    {
     "data": {
      "text/plain": [
       "['Number', 'Assigment', 'Date', 'Class_time']"
      ]
     },
     "execution_count": 11,
     "metadata": {},
     "output_type": "execute_result"
    }
   ],
   "source": [
    "list(d8.keys())"
   ]
  },
  {
   "cell_type": "code",
   "execution_count": 12,
   "id": "6cbf8b9e-3773-4f4f-a7b6-8b418891c5c5",
   "metadata": {},
   "outputs": [
    {
     "data": {
      "text/plain": [
       "dict_items([('Number', [123, 456, 789]), ('Assigment', (10, 20, 30, 40)), ('Date', {2, 3, 4, 5, 6}), ('Class_time', {'data_sciece': '4', 'dsa': '5'})])"
      ]
     },
     "execution_count": 12,
     "metadata": {},
     "output_type": "execute_result"
    }
   ],
   "source": [
    "d8.items()"
   ]
  },
  {
   "cell_type": "code",
   "execution_count": 13,
   "id": "30d22564-e7a6-4725-817c-eab9836534f7",
   "metadata": {},
   "outputs": [
    {
     "data": {
      "text/plain": [
       "[('Number', [123, 456, 789]),\n",
       " ('Assigment', (10, 20, 30, 40)),\n",
       " ('Date', {2, 3, 4, 5, 6}),\n",
       " ('Class_time', {'data_sciece': '4', 'dsa': '5'})]"
      ]
     },
     "execution_count": 13,
     "metadata": {},
     "output_type": "execute_result"
    }
   ],
   "source": [
    "list(d8.items())"
   ]
  },
  {
   "cell_type": "code",
   "execution_count": 14,
   "id": "3281a88f-5106-4456-88a4-7be129a1e680",
   "metadata": {},
   "outputs": [
    {
     "data": {
      "text/plain": [
       "(10, 20, 30, 40)"
      ]
     },
     "execution_count": 14,
     "metadata": {},
     "output_type": "execute_result"
    }
   ],
   "source": [
    "d8.pop(\"Assigment\")"
   ]
  },
  {
   "cell_type": "code",
   "execution_count": 15,
   "id": "0d3acf60-7dc8-472f-9628-a60bcc812700",
   "metadata": {},
   "outputs": [
    {
     "data": {
      "text/plain": [
       "{'Number': [123, 456, 789],\n",
       " 'Date': {2, 3, 4, 5, 6},\n",
       " 'Class_time': {'data_sciece': '4', 'dsa': '5'}}"
      ]
     },
     "execution_count": 15,
     "metadata": {},
     "output_type": "execute_result"
    }
   ],
   "source": [
    "d8"
   ]
  },
  {
   "cell_type": "code",
   "execution_count": 39,
   "id": "f5d24d2f-ab85-443b-b264-abc6e90f823c",
   "metadata": {},
   "outputs": [
    {
     "name": "stdout",
     "output_type": "stream",
     "text": [
      "You are in Charlie batch\n"
     ]
    }
   ],
   "source": [
    "marks = 55\n",
    "if marks >= 80:\n",
    "    print(\"You are in Alpha batch\")\n",
    "elif marks >= 60 and marks < 80:\n",
    "    print(\"You are in Beta batch\")\n",
    "elif marks >= 40 and marks < 60:\n",
    "    print(\"You are in Charlie batch\")\n",
    "else:\n",
    "    print(\"You will start fresh\")"
   ]
  },
  {
   "cell_type": "code",
   "execution_count": 40,
   "id": "04e69740-fe1c-406d-bbdb-44287bb5179e",
   "metadata": {},
   "outputs": [
    {
     "data": {
      "text/plain": [
       "False"
      ]
     },
     "execution_count": 40,
     "metadata": {},
     "output_type": "execute_result"
    }
   ],
   "source": [
    "10 >= 80"
   ]
  },
  {
   "cell_type": "code",
   "execution_count": 41,
   "id": "4406f8b7-b24e-4e9d-8b38-21196af5010b",
   "metadata": {},
   "outputs": [
    {
     "data": {
      "text/plain": [
       "True"
      ]
     },
     "execution_count": 41,
     "metadata": {},
     "output_type": "execute_result"
    }
   ],
   "source": [
    "10 <= 80"
   ]
  },
  {
   "cell_type": "code",
   "execution_count": 1,
   "id": "d2ee9d11-3729-48ca-8ff0-d22769f745b7",
   "metadata": {},
   "outputs": [
    {
     "name": "stdout",
     "output_type": "stream",
     "text": [
      "You are in Charlie batch\n"
     ]
    }
   ],
   "source": [
    "marks = 55\n",
    "if marks >= 80:\n",
    "    print(\"You are in Alpha batch\")\n",
    "elif marks >= 60 and marks < 80:\n",
    "    print(\"You are in Beta batch\")\n",
    "elif marks >= 40 and marks < 60:\n",
    "    print(\"You are in Charlie batch\")\n",
    "else:\n",
    "    print(\"You will start fresh\")"
   ]
  },
  {
   "cell_type": "code",
   "execution_count": 4,
   "id": "d1a43453-bf19-4cbb-a5af-1d0179657352",
   "metadata": {},
   "outputs": [
    {
     "name": "stdout",
     "output_type": "stream",
     "text": [
      "you got second Division\n"
     ]
    }
   ],
   "source": [
    "mark = 77\n",
    "if marks >= 80:\n",
    "    print(\"you got first division\")\n",
    "elif mark >= 60 and marks < 80:\n",
    "    print(\"you got second Division\")\n",
    "elif marks >= 60 and marks < 40:\n",
    "    print(\"you got 3rd division\")\n",
    "else:\n",
    "    print(\"you have to try Again\")"
   ]
  },
  {
   "cell_type": "code",
   "execution_count": 5,
   "id": "add0cffe-4877-40eb-b34d-424fad80c5da",
   "metadata": {},
   "outputs": [
    {
     "name": "stdout",
     "output_type": "stream",
     "text": [
      "you got second Division\n"
     ]
    }
   ],
   "source": [
    "mark = 77\n",
    "if marks >= 80:\n",
    "    print(\"you got first division\")\n",
    "elif mark >= 60 or marks < 80:\n",
    "    print(\"you got second Division\")\n",
    "elif marks >= 60 or marks < 40:\n",
    "    print(\"you got 3rd division\")\n",
    "else:\n",
    "    print(\"you have to try Again\")"
   ]
  },
  {
   "cell_type": "code",
   "execution_count": 10,
   "id": "8414829b-46ba-4f05-b0a4-c13877756e4d",
   "metadata": {},
   "outputs": [
    {
     "name": "stdin",
     "output_type": "stream",
     "text": [
      "enter your marks 45\n"
     ]
    }
   ],
   "source": [
    "marks = int(input(\"enter your marks\"))"
   ]
  },
  {
   "cell_type": "code",
   "execution_count": 11,
   "id": "48ad275c-701d-41ad-8cfa-f75419880d27",
   "metadata": {},
   "outputs": [
    {
     "data": {
      "text/plain": [
       "45"
      ]
     },
     "execution_count": 11,
     "metadata": {},
     "output_type": "execute_result"
    }
   ],
   "source": [
    "marks"
   ]
  },
  {
   "cell_type": "code",
   "execution_count": 14,
   "id": "5a531c1b-bb7c-4236-bacc-226098d0a39e",
   "metadata": {},
   "outputs": [
    {
     "name": "stdin",
     "output_type": "stream",
     "text": [
      "enter your marks 56\n"
     ]
    },
    {
     "name": "stdout",
     "output_type": "stream",
     "text": [
      "you got 3rd division\n"
     ]
    }
   ],
   "source": [
    "marks = int(input(\"enter your marks\"))\n",
    "if marks >= 80:\n",
    "    print(\"you got first division\")\n",
    "elif marks >= 60 and marks < 80:\n",
    "    print(\"you got second Division\")\n",
    "elif marks >= 40 and marks < 60:\n",
    "    print(\"you got 3rd division\")\n",
    "else:\n",
    "    print(\"you have to try Again\")"
   ]
  },
  {
   "cell_type": "code",
   "execution_count": 17,
   "id": "bb08089d-6f67-414d-9a5c-0ab0feb093ad",
   "metadata": {},
   "outputs": [
    {
     "data": {
      "text/plain": [
       "56"
      ]
     },
     "execution_count": 17,
     "metadata": {},
     "output_type": "execute_result"
    }
   ],
   "source": [
    "marks"
   ]
  },
  {
   "cell_type": "code",
   "execution_count": 18,
   "id": "d4cd276d-bfec-496a-bb25-7542df1054e4",
   "metadata": {},
   "outputs": [
    {
     "data": {
      "text/plain": [
       "int"
      ]
     },
     "execution_count": 18,
     "metadata": {},
     "output_type": "execute_result"
    }
   ],
   "source": [
    "type(marks)"
   ]
  },
  {
   "cell_type": "code",
   "execution_count": 19,
   "id": "29776e54-c20b-4046-bf55-98c8fef52e29",
   "metadata": {},
   "outputs": [
    {
     "data": {
      "text/plain": [
       "str"
      ]
     },
     "execution_count": 19,
     "metadata": {},
     "output_type": "execute_result"
    }
   ],
   "source": [
    "type(\"Marks\")"
   ]
  },
  {
   "cell_type": "code",
   "execution_count": 31,
   "id": "06777f03-ccf9-4cac-8400-c24e566bf304",
   "metadata": {},
   "outputs": [
    {
     "name": "stdin",
     "output_type": "stream",
     "text": [
      "enter your marks 400\n"
     ]
    },
    {
     "name": "stdout",
     "output_type": "stream",
     "text": [
      "i Will purchase\n"
     ]
    }
   ],
   "source": [
    "price = int(input(\"enter your marks\"))\n",
    "if price > 10000:\n",
    "    print(\"I will not purchase\")\n",
    "else :\n",
    "        print(\"i Will purchase\")"
   ]
  },
  {
   "cell_type": "code",
   "execution_count": 32,
   "id": "4239dbdb-c87e-4882-85cf-9672c1acfa5f",
   "metadata": {},
   "outputs": [
    {
     "name": "stdin",
     "output_type": "stream",
     "text": [
      "enter your marks 12409\n"
     ]
    },
    {
     "name": "stdout",
     "output_type": "stream",
     "text": [
      "I will not purchase\n"
     ]
    }
   ],
   "source": [
    "price = int(input(\"enter your marks\"))\n",
    "if price > 10000:\n",
    "    print(\"I will not purchase\")"
   ]
  },
  {
   "cell_type": "code",
   "execution_count": 33,
   "id": "fec4e923-b21b-4e7c-b6bd-d590233fa4a8",
   "metadata": {},
   "outputs": [
    {
     "name": "stdin",
     "output_type": "stream",
     "text": [
      "enter your marks 17650\n"
     ]
    },
    {
     "name": "stdout",
     "output_type": "stream",
     "text": [
      "I will not purchase\n",
      "price is too high\n"
     ]
    }
   ],
   "source": [
    "price = int(input(\"enter your marks\"))\n",
    "if price > 10000:\n",
    "    print(\"I will not purchase\")\n",
    "    if price > 15000:\n",
    "        print(\"price is too high\")"
   ]
  },
  {
   "cell_type": "code",
   "execution_count": 44,
   "id": "849c1695-6137-484a-9350-09b34dfff531",
   "metadata": {},
   "outputs": [
    {
     "name": "stdin",
     "output_type": "stream",
     "text": [
      "enter your price 12501\n"
     ]
    },
    {
     "name": "stdout",
     "output_type": "stream",
     "text": [
      "I will not purchase\n",
      "That can be duable\n"
     ]
    }
   ],
   "source": [
    "price = int(input(\"enter your price\"))\n",
    "if price > 10000:\n",
    "    print(\"I will not purchase\")\n",
    "if price > 15000:\n",
    "    print(\"price is too high\")\n",
    "elif price > 12500 :\n",
    "    print(\"That can be duable\")"
   ]
  },
  {
   "cell_type": "code",
   "execution_count": 48,
   "id": "b74246e7-6fda-4fc6-8563-1d7c442b2073",
   "metadata": {},
   "outputs": [],
   "source": [
    "l = [1,2,3,4,5,6,7,8,9]"
   ]
  },
  {
   "cell_type": "code",
   "execution_count": 50,
   "id": "dffac8b6-eca2-430b-86ab-29a7441425b0",
   "metadata": {},
   "outputs": [
    {
     "data": {
      "text/plain": [
       "1"
      ]
     },
     "execution_count": 50,
     "metadata": {},
     "output_type": "execute_result"
    }
   ],
   "source": [
    "l[0]"
   ]
  },
  {
   "cell_type": "code",
   "execution_count": 51,
   "id": "df89e128-c12a-4aa3-8310-aef127821143",
   "metadata": {},
   "outputs": [
    {
     "data": {
      "text/plain": [
       "10"
      ]
     },
     "execution_count": 51,
     "metadata": {},
     "output_type": "execute_result"
    }
   ],
   "source": [
    "l[0] + l[8]"
   ]
  },
  {
   "cell_type": "code",
   "execution_count": 55,
   "id": "ba041799-0ada-4397-9da2-4aae5a7076d9",
   "metadata": {},
   "outputs": [
    {
     "data": {
      "text/plain": [
       "2"
      ]
     },
     "execution_count": 55,
     "metadata": {},
     "output_type": "execute_result"
    }
   ],
   "source": [
    "l[0] + 1"
   ]
  },
  {
   "cell_type": "code",
   "execution_count": 56,
   "id": "01c8f050-4a1f-4ced-b9ec-8c49c726c548",
   "metadata": {},
   "outputs": [
    {
     "data": {
      "text/plain": [
       "1"
      ]
     },
     "execution_count": 56,
     "metadata": {},
     "output_type": "execute_result"
    }
   ],
   "source": [
    "l[0]"
   ]
  },
  {
   "cell_type": "code",
   "execution_count": 57,
   "id": "5234a9c1-efa5-4089-b431-b7b5e6826c54",
   "metadata": {},
   "outputs": [
    {
     "data": {
      "text/plain": [
       "2"
      ]
     },
     "execution_count": 57,
     "metadata": {},
     "output_type": "execute_result"
    }
   ],
   "source": [
    "l[0] + 1"
   ]
  },
  {
   "cell_type": "code",
   "execution_count": 61,
   "id": "27d0c74b-be0b-4825-a435-da6a7c0e2c09",
   "metadata": {},
   "outputs": [],
   "source": [
    "l1 = []"
   ]
  },
  {
   "cell_type": "code",
   "execution_count": 62,
   "id": "ce17c8f4-67dc-4466-9a10-35e0760ff716",
   "metadata": {},
   "outputs": [],
   "source": [
    "l1.append(l[0] + 1)"
   ]
  },
  {
   "cell_type": "code",
   "execution_count": 63,
   "id": "e04417e3-ee90-4f64-8a95-040b767f76e5",
   "metadata": {},
   "outputs": [
    {
     "data": {
      "text/plain": [
       "[2]"
      ]
     },
     "execution_count": 63,
     "metadata": {},
     "output_type": "execute_result"
    }
   ],
   "source": [
    "l1"
   ]
  },
  {
   "cell_type": "code",
   "execution_count": 64,
   "id": "90a05112-d3d2-4e41-8381-8877cb06eadc",
   "metadata": {},
   "outputs": [],
   "source": [
    "l = [1,2,3,4,5,6,7,8,9]"
   ]
  },
  {
   "cell_type": "code",
   "execution_count": 67,
   "id": "654ff71b-ce16-4a25-9ef8-415bf4c21c71",
   "metadata": {},
   "outputs": [
    {
     "name": "stdout",
     "output_type": "stream",
     "text": [
      "1\n",
      "2\n",
      "3\n",
      "4\n",
      "5\n",
      "6\n",
      "7\n",
      "8\n",
      "9\n"
     ]
    }
   ],
   "source": [
    "for s in l :\n",
    "     print(s)"
   ]
  },
  {
   "cell_type": "code",
   "execution_count": 73,
   "id": "d9818b15-e937-4f39-96f6-2388130e0720",
   "metadata": {},
   "outputs": [],
   "source": [
    "l = [1,2,3,4,5,6,7,8,9]"
   ]
  },
  {
   "cell_type": "code",
   "execution_count": 105,
   "id": "fd3cde3b-2a63-40c6-bea0-0e5d860acd64",
   "metadata": {},
   "outputs": [
    {
     "name": "stdout",
     "output_type": "stream",
     "text": [
      "3\n",
      "4\n",
      "5\n",
      "6\n",
      "7\n",
      "8\n",
      "9\n",
      "10\n",
      "11\n"
     ]
    },
    {
     "data": {
      "text/plain": [
       "[11, 11]"
      ]
     },
     "execution_count": 105,
     "metadata": {},
     "output_type": "execute_result"
    }
   ],
   "source": [
    "l1 = []\n",
    "for s in l:\n",
    "     print(s + 2)\n",
    "l1.append(s + 2)\n",
    "l1 + l1"
   ]
  },
  {
   "cell_type": "code",
   "execution_count": 96,
   "id": "da97e41b-de7c-4c60-8c22-3f51cfe0685e",
   "metadata": {},
   "outputs": [
    {
     "data": {
      "text/plain": [
       "[10]"
      ]
     },
     "execution_count": 96,
     "metadata": {},
     "output_type": "execute_result"
    }
   ],
   "source": [
    "l1"
   ]
  },
  {
   "cell_type": "code",
   "execution_count": 97,
   "id": "9e1dd7b1-122a-402c-b96a-de39fc6c28f5",
   "metadata": {},
   "outputs": [
    {
     "data": {
      "text/plain": [
       "[1, 2, 3, 4, 5, 6, 7, 8, 9]"
      ]
     },
     "execution_count": 97,
     "metadata": {},
     "output_type": "execute_result"
    }
   ],
   "source": [
    "l"
   ]
  },
  {
   "cell_type": "code",
   "execution_count": 98,
   "id": "ca7d9c75-1cc7-4e0b-9d9e-65e6899f89ec",
   "metadata": {},
   "outputs": [
    {
     "data": {
      "text/plain": [
       "[10]"
      ]
     },
     "execution_count": 98,
     "metadata": {},
     "output_type": "execute_result"
    }
   ],
   "source": [
    "l1"
   ]
  },
  {
   "cell_type": "code",
   "execution_count": 106,
   "id": "bd6053f2-8a1b-4db9-97f8-84c754919bf2",
   "metadata": {},
   "outputs": [],
   "source": [
    "l = [\"sumit\" ,\"kumar\" , \"pwskill\", \"course\"]"
   ]
  },
  {
   "cell_type": "code",
   "execution_count": 107,
   "id": "42ec97cd-6841-426f-9d46-31acc7850e73",
   "metadata": {},
   "outputs": [
    {
     "name": "stdout",
     "output_type": "stream",
     "text": [
      "sumit\n",
      "kumar\n",
      "pwskill\n",
      "course\n"
     ]
    }
   ],
   "source": [
    "for s in l:\n",
    "    print(s)\n",
    "    "
   ]
  },
  {
   "cell_type": "code",
   "execution_count": 109,
   "id": "895217b5-2876-4ce0-bcf9-adfb1fb60289",
   "metadata": {},
   "outputs": [
    {
     "name": "stdout",
     "output_type": "stream",
     "text": [
      "sumit\n",
      "kumar\n",
      "pwskill\n",
      "course\n"
     ]
    }
   ],
   "source": [
    "l1 = []\n",
    "for s in l:\n",
    "    print(s)\n",
    "    l1.append(s.upper())"
   ]
  },
  {
   "cell_type": "code",
   "execution_count": 21,
   "id": "d9e568b2-995d-42bd-b56d-2898664afad5",
   "metadata": {},
   "outputs": [
    {
     "data": {
      "text/plain": [
       "['sumit', 'kumar', 'pwskill', 'course']"
      ]
     },
     "execution_count": 21,
     "metadata": {},
     "output_type": "execute_result"
    }
   ],
   "source": [
    "l"
   ]
  },
  {
   "cell_type": "code",
   "execution_count": 12,
   "id": "f2d50f2a-88a8-43ef-ae5e-361a191fb26f",
   "metadata": {},
   "outputs": [],
   "source": [
    "l = [\"sumit\" ,\"kumar\" , \"pwskill\", \"course\"]"
   ]
  },
  {
   "cell_type": "code",
   "execution_count": 19,
   "id": "803e72dc-27ae-4cc5-a8c0-c90a05bd7825",
   "metadata": {},
   "outputs": [
    {
     "data": {
      "text/plain": [
       "['sumit', 'kumar', 'pwskill', 'course']"
      ]
     },
     "execution_count": 19,
     "metadata": {},
     "output_type": "execute_result"
    }
   ],
   "source": [
    "l"
   ]
  },
  {
   "cell_type": "code",
   "execution_count": 1,
   "id": "79ae2950-9f8e-468d-8301-bb077cee5102",
   "metadata": {},
   "outputs": [],
   "source": [
    "l = [1, 2, 3, 4, 4, \"Sudh\" , \"kumar\" , 324 , 35, \"abc\"]"
   ]
  },
  {
   "cell_type": "code",
   "execution_count": 35,
   "id": "d8f99879-6edf-4501-9774-f54fbbc4dcce",
   "metadata": {},
   "outputs": [],
   "source": [
    "l1_num = []\n",
    "l2_str = []\n",
    "for s in l:\n",
    "    if type(s) == int or type (s) == float:\n",
    "        l1_num.append(s)\n",
    "    else :\n",
    "        l2_str.append(s)"
   ]
  },
  {
   "cell_type": "code",
   "execution_count": 38,
   "id": "75f48dad-7151-400f-aaac-251d52916a4f",
   "metadata": {},
   "outputs": [
    {
     "data": {
      "text/plain": [
       "[]"
      ]
     },
     "execution_count": 38,
     "metadata": {},
     "output_type": "execute_result"
    }
   ],
   "source": [
    "l1_num"
   ]
  },
  {
   "cell_type": "code",
   "execution_count": 39,
   "id": "be56ff3b-a3ef-46b8-b559-080cfbb8ccc5",
   "metadata": {},
   "outputs": [
    {
     "data": {
      "text/plain": [
       "['sumit', 'kumar', 'pwskill', 'course']"
      ]
     },
     "execution_count": 39,
     "metadata": {},
     "output_type": "execute_result"
    }
   ],
   "source": [
    "l2_str"
   ]
  },
  {
   "cell_type": "code",
   "execution_count": 40,
   "id": "8a5bca26-df24-46c3-a8fc-537c3839cc37",
   "metadata": {},
   "outputs": [],
   "source": [
    "l = [1,2,3,4,5, \"sum\" , \"kumar\" , 456 ,\"xyz\"]"
   ]
  },
  {
   "cell_type": "code",
   "execution_count": 41,
   "id": "4c7b253c-4dc0-4c8a-9f19-949828b9c480",
   "metadata": {},
   "outputs": [],
   "source": [
    "l1_num = []\n",
    "l2_str = []\n",
    "for s in l:\n",
    "    if type(s) == int or type (s) == float:\n",
    "        l1_num.append(s)\n",
    "    else :\n",
    "        l2_str.append(s)"
   ]
  },
  {
   "cell_type": "code",
   "execution_count": 42,
   "id": "02e66dd9-e387-4167-9ed1-6ed637d4756c",
   "metadata": {},
   "outputs": [
    {
     "data": {
      "text/plain": [
       "[1, 2, 3, 4, 5, 456]"
      ]
     },
     "execution_count": 42,
     "metadata": {},
     "output_type": "execute_result"
    }
   ],
   "source": [
    "l1_num"
   ]
  },
  {
   "cell_type": "code",
   "execution_count": 43,
   "id": "7eb0ac0c-49f5-4362-b05e-2aec2e6e7d95",
   "metadata": {},
   "outputs": [
    {
     "data": {
      "text/plain": [
       "['sum', 'kumar', 'xyz']"
      ]
     },
     "execution_count": 43,
     "metadata": {},
     "output_type": "execute_result"
    }
   ],
   "source": [
    "l2_str"
   ]
  },
  {
   "cell_type": "code",
   "execution_count": null,
   "id": "2a006e96-194a-4c86-a7ad-5edc75981d5e",
   "metadata": {},
   "outputs": [],
   "source": []
  }
 ],
 "metadata": {
  "kernelspec": {
   "display_name": "Python 3 (ipykernel)",
   "language": "python",
   "name": "python3"
  },
  "language_info": {
   "codemirror_mode": {
    "name": "ipython",
    "version": 3
   },
   "file_extension": ".py",
   "mimetype": "text/x-python",
   "name": "python",
   "nbconvert_exporter": "python",
   "pygments_lexer": "ipython3",
   "version": "3.10.8"
  }
 },
 "nbformat": 4,
 "nbformat_minor": 5
}
